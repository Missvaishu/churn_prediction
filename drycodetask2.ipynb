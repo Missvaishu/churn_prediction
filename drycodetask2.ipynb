{
 "cells": [
  {
   "cell_type": "markdown",
   "id": "870c2bc6",
   "metadata": {},
   "source": [
    "# DryCode\n",
    "\n",
    "Data Analytics Internship.\n",
    "\n",
    "TASK 2: Store Sales Forecasting\n",
    "\n",
    "BY: VAISHNAVI AGRAWAL"
   ]
  },
  {
   "cell_type": "markdown",
   "id": "95250c83",
   "metadata": {},
   "source": [
    "# Importing The Necessary Libraries"
   ]
  },
  {
   "cell_type": "code",
   "execution_count": 35,
   "id": "2308eabb",
   "metadata": {
    "_cell_guid": "b1076dfc-b9ad-4769-8c92-a6c4dae69d19",
    "_uuid": "8f2839f25d086af736a60e9eeb907d3b93b6e0e5",
    "execution": {
     "iopub.execute_input": "2021-10-18T21:51:08.173693Z",
     "iopub.status.busy": "2021-10-18T21:51:08.172149Z",
     "iopub.status.idle": "2021-10-18T21:51:08.905538Z",
     "shell.execute_reply": "2021-10-18T21:51:08.906417Z",
     "shell.execute_reply.started": "2021-10-18T19:43:51.661801Z"
    },
    "papermill": {
     "duration": 0.76797,
     "end_time": "2021-10-18T21:51:08.908798",
     "exception": false,
     "start_time": "2021-10-18T21:51:08.140828",
     "status": "completed"
    },
    "tags": []
   },
   "outputs": [],
   "source": [
    "import numpy as np \n",
    "import pandas as pd\n",
    "import seaborn as sns \n",
    "import matplotlib.pyplot as plt\n",
    "\n",
    "\n",
    "import os\n",
    "for dirname, _, filenames in os.walk('/kaggle/input'):\n",
    "    for filename in filenames:\n",
    "        print(os.path.join(dirname, filename))"
   ]
  },
  {
   "cell_type": "markdown",
   "id": "c049257a",
   "metadata": {},
   "source": [
    "# loading the data set"
   ]
  },
  {
   "cell_type": "code",
   "execution_count": 36,
   "id": "db12dd8e",
   "metadata": {
    "execution": {
     "iopub.execute_input": "2021-10-18T21:51:09.021134Z",
     "iopub.status.busy": "2021-10-18T21:51:09.020215Z",
     "iopub.status.idle": "2021-10-18T21:51:09.517594Z",
     "shell.execute_reply": "2021-10-18T21:51:09.518440Z",
     "shell.execute_reply.started": "2021-10-18T19:43:51.678189Z"
    },
    "papermill": {
     "duration": 0.55733,
     "end_time": "2021-10-18T21:51:09.518733",
     "exception": false,
     "start_time": "2021-10-18T21:51:08.961403",
     "status": "completed"
    },
    "tags": []
   },
   "outputs": [],
   "source": [
    "train = 'C:\\\\Users\\\\MITTAL\\\\Downloads\\\\archive (4)\\storesalestrain.csv'\n",
    "test = 'C:\\\\Users\\\\MITTAL\\\\Downloads\\\\archive (4)\\storesales.csv'\n",
    "df_train = pd.read_csv(train)\n",
    "df_test = pd.read_csv(test)"
   ]
  },
  {
   "cell_type": "code",
   "execution_count": 3,
   "id": "707e151d",
   "metadata": {
    "execution": {
     "iopub.execute_input": "2021-10-18T21:51:09.621671Z",
     "iopub.status.busy": "2021-10-18T21:51:09.620886Z",
     "iopub.status.idle": "2021-10-18T21:51:09.644658Z",
     "shell.execute_reply": "2021-10-18T21:51:09.645772Z",
     "shell.execute_reply.started": "2021-10-18T19:43:51.914088Z"
    },
    "papermill": {
     "duration": 0.077219,
     "end_time": "2021-10-18T21:51:09.645981",
     "exception": false,
     "start_time": "2021-10-18T21:51:09.568762",
     "status": "completed"
    },
    "tags": []
   },
   "outputs": [
    {
     "data": {
      "text/html": [
       "<div>\n",
       "<style scoped>\n",
       "    .dataframe tbody tr th:only-of-type {\n",
       "        vertical-align: middle;\n",
       "    }\n",
       "\n",
       "    .dataframe tbody tr th {\n",
       "        vertical-align: top;\n",
       "    }\n",
       "\n",
       "    .dataframe thead th {\n",
       "        text-align: right;\n",
       "    }\n",
       "</style>\n",
       "<table border=\"1\" class=\"dataframe\">\n",
       "  <thead>\n",
       "    <tr style=\"text-align: right;\">\n",
       "      <th></th>\n",
       "      <th>ID</th>\n",
       "      <th>Store_id</th>\n",
       "      <th>Store_Type</th>\n",
       "      <th>Location_Type</th>\n",
       "      <th>Region_Code</th>\n",
       "      <th>Date</th>\n",
       "      <th>Holiday</th>\n",
       "      <th>Discount</th>\n",
       "      <th>#Order</th>\n",
       "      <th>Sales</th>\n",
       "    </tr>\n",
       "  </thead>\n",
       "  <tbody>\n",
       "    <tr>\n",
       "      <th>0</th>\n",
       "      <td>T1000001</td>\n",
       "      <td>1</td>\n",
       "      <td>S1</td>\n",
       "      <td>L3</td>\n",
       "      <td>R1</td>\n",
       "      <td>2018-01-01</td>\n",
       "      <td>1</td>\n",
       "      <td>Yes</td>\n",
       "      <td>9</td>\n",
       "      <td>7011.84</td>\n",
       "    </tr>\n",
       "    <tr>\n",
       "      <th>1</th>\n",
       "      <td>T1000002</td>\n",
       "      <td>253</td>\n",
       "      <td>S4</td>\n",
       "      <td>L2</td>\n",
       "      <td>R1</td>\n",
       "      <td>2018-01-01</td>\n",
       "      <td>1</td>\n",
       "      <td>Yes</td>\n",
       "      <td>60</td>\n",
       "      <td>51789.12</td>\n",
       "    </tr>\n",
       "    <tr>\n",
       "      <th>2</th>\n",
       "      <td>T1000003</td>\n",
       "      <td>252</td>\n",
       "      <td>S3</td>\n",
       "      <td>L2</td>\n",
       "      <td>R1</td>\n",
       "      <td>2018-01-01</td>\n",
       "      <td>1</td>\n",
       "      <td>Yes</td>\n",
       "      <td>42</td>\n",
       "      <td>36868.20</td>\n",
       "    </tr>\n",
       "    <tr>\n",
       "      <th>3</th>\n",
       "      <td>T1000004</td>\n",
       "      <td>251</td>\n",
       "      <td>S2</td>\n",
       "      <td>L3</td>\n",
       "      <td>R1</td>\n",
       "      <td>2018-01-01</td>\n",
       "      <td>1</td>\n",
       "      <td>Yes</td>\n",
       "      <td>23</td>\n",
       "      <td>19715.16</td>\n",
       "    </tr>\n",
       "    <tr>\n",
       "      <th>4</th>\n",
       "      <td>T1000005</td>\n",
       "      <td>250</td>\n",
       "      <td>S2</td>\n",
       "      <td>L3</td>\n",
       "      <td>R4</td>\n",
       "      <td>2018-01-01</td>\n",
       "      <td>1</td>\n",
       "      <td>Yes</td>\n",
       "      <td>62</td>\n",
       "      <td>45614.52</td>\n",
       "    </tr>\n",
       "  </tbody>\n",
       "</table>\n",
       "</div>"
      ],
      "text/plain": [
       "         ID  Store_id Store_Type Location_Type Region_Code        Date  \\\n",
       "0  T1000001         1         S1            L3          R1  2018-01-01   \n",
       "1  T1000002       253         S4            L2          R1  2018-01-01   \n",
       "2  T1000003       252         S3            L2          R1  2018-01-01   \n",
       "3  T1000004       251         S2            L3          R1  2018-01-01   \n",
       "4  T1000005       250         S2            L3          R4  2018-01-01   \n",
       "\n",
       "   Holiday Discount  #Order     Sales  \n",
       "0        1      Yes       9   7011.84  \n",
       "1        1      Yes      60  51789.12  \n",
       "2        1      Yes      42  36868.20  \n",
       "3        1      Yes      23  19715.16  \n",
       "4        1      Yes      62  45614.52  "
      ]
     },
     "execution_count": 3,
     "metadata": {},
     "output_type": "execute_result"
    }
   ],
   "source": [
    "df_train.head()"
   ]
  },
  {
   "cell_type": "code",
   "execution_count": 4,
   "id": "5226ae4f",
   "metadata": {
    "execution": {
     "iopub.execute_input": "2021-10-18T21:51:09.745041Z",
     "iopub.status.busy": "2021-10-18T21:51:09.743722Z",
     "iopub.status.idle": "2021-10-18T21:51:09.803405Z",
     "shell.execute_reply": "2021-10-18T21:51:09.804389Z",
     "shell.execute_reply.started": "2021-10-18T19:43:51.930356Z"
    },
    "papermill": {
     "duration": 0.108054,
     "end_time": "2021-10-18T21:51:09.804610",
     "exception": false,
     "start_time": "2021-10-18T21:51:09.696556",
     "status": "completed"
    },
    "tags": []
   },
   "outputs": [
    {
     "data": {
      "text/html": [
       "<div>\n",
       "<style scoped>\n",
       "    .dataframe tbody tr th:only-of-type {\n",
       "        vertical-align: middle;\n",
       "    }\n",
       "\n",
       "    .dataframe tbody tr th {\n",
       "        vertical-align: top;\n",
       "    }\n",
       "\n",
       "    .dataframe thead th {\n",
       "        text-align: right;\n",
       "    }\n",
       "</style>\n",
       "<table border=\"1\" class=\"dataframe\">\n",
       "  <thead>\n",
       "    <tr style=\"text-align: right;\">\n",
       "      <th></th>\n",
       "      <th>Store_id</th>\n",
       "      <th>Holiday</th>\n",
       "      <th>#Order</th>\n",
       "      <th>Sales</th>\n",
       "    </tr>\n",
       "  </thead>\n",
       "  <tbody>\n",
       "    <tr>\n",
       "      <th>count</th>\n",
       "      <td>188340.000000</td>\n",
       "      <td>188340.000000</td>\n",
       "      <td>188340.000000</td>\n",
       "      <td>188340.000000</td>\n",
       "    </tr>\n",
       "    <tr>\n",
       "      <th>mean</th>\n",
       "      <td>183.000000</td>\n",
       "      <td>0.131783</td>\n",
       "      <td>68.205692</td>\n",
       "      <td>42784.327982</td>\n",
       "    </tr>\n",
       "    <tr>\n",
       "      <th>std</th>\n",
       "      <td>105.366308</td>\n",
       "      <td>0.338256</td>\n",
       "      <td>30.467415</td>\n",
       "      <td>18456.708302</td>\n",
       "    </tr>\n",
       "    <tr>\n",
       "      <th>min</th>\n",
       "      <td>1.000000</td>\n",
       "      <td>0.000000</td>\n",
       "      <td>0.000000</td>\n",
       "      <td>0.000000</td>\n",
       "    </tr>\n",
       "    <tr>\n",
       "      <th>25%</th>\n",
       "      <td>92.000000</td>\n",
       "      <td>0.000000</td>\n",
       "      <td>48.000000</td>\n",
       "      <td>30426.000000</td>\n",
       "    </tr>\n",
       "    <tr>\n",
       "      <th>50%</th>\n",
       "      <td>183.000000</td>\n",
       "      <td>0.000000</td>\n",
       "      <td>63.000000</td>\n",
       "      <td>39678.000000</td>\n",
       "    </tr>\n",
       "    <tr>\n",
       "      <th>75%</th>\n",
       "      <td>274.000000</td>\n",
       "      <td>0.000000</td>\n",
       "      <td>82.000000</td>\n",
       "      <td>51909.000000</td>\n",
       "    </tr>\n",
       "    <tr>\n",
       "      <th>max</th>\n",
       "      <td>365.000000</td>\n",
       "      <td>1.000000</td>\n",
       "      <td>371.000000</td>\n",
       "      <td>247215.000000</td>\n",
       "    </tr>\n",
       "  </tbody>\n",
       "</table>\n",
       "</div>"
      ],
      "text/plain": [
       "            Store_id        Holiday         #Order          Sales\n",
       "count  188340.000000  188340.000000  188340.000000  188340.000000\n",
       "mean      183.000000       0.131783      68.205692   42784.327982\n",
       "std       105.366308       0.338256      30.467415   18456.708302\n",
       "min         1.000000       0.000000       0.000000       0.000000\n",
       "25%        92.000000       0.000000      48.000000   30426.000000\n",
       "50%       183.000000       0.000000      63.000000   39678.000000\n",
       "75%       274.000000       0.000000      82.000000   51909.000000\n",
       "max       365.000000       1.000000     371.000000  247215.000000"
      ]
     },
     "execution_count": 4,
     "metadata": {},
     "output_type": "execute_result"
    }
   ],
   "source": [
    "df_train.describe()"
   ]
  },
  {
   "cell_type": "code",
   "execution_count": 5,
   "id": "556080a1",
   "metadata": {
    "execution": {
     "iopub.execute_input": "2021-10-18T21:51:09.908188Z",
     "iopub.status.busy": "2021-10-18T21:51:09.907336Z",
     "iopub.status.idle": "2021-10-18T21:51:09.911050Z",
     "shell.execute_reply": "2021-10-18T21:51:09.909057Z",
     "shell.execute_reply.started": "2021-10-18T19:43:51.977435Z"
    },
    "papermill": {
     "duration": 0.058978,
     "end_time": "2021-10-18T21:51:09.911203",
     "exception": false,
     "start_time": "2021-10-18T21:51:09.852225",
     "status": "completed"
    },
    "tags": []
   },
   "outputs": [
    {
     "data": {
      "text/plain": [
       "pandas.core.series.Series"
      ]
     },
     "execution_count": 5,
     "metadata": {},
     "output_type": "execute_result"
    }
   ],
   "source": [
    "type(df_train.Date)"
   ]
  },
  {
   "cell_type": "code",
   "execution_count": 6,
   "id": "dc36c941",
   "metadata": {
    "execution": {
     "iopub.execute_input": "2021-10-18T21:51:10.011343Z",
     "iopub.status.busy": "2021-10-18T21:51:10.010600Z",
     "iopub.status.idle": "2021-10-18T21:51:10.177518Z",
     "shell.execute_reply": "2021-10-18T21:51:10.178015Z",
     "shell.execute_reply.started": "2021-10-18T19:43:51.985213Z"
    },
    "papermill": {
     "duration": 0.222832,
     "end_time": "2021-10-18T21:51:10.178168",
     "exception": false,
     "start_time": "2021-10-18T21:51:09.955336",
     "status": "completed"
    },
    "tags": []
   },
   "outputs": [
    {
     "name": "stdout",
     "output_type": "stream",
     "text": [
      "<class 'pandas.core.frame.DataFrame'>\n",
      "RangeIndex: 188340 entries, 0 to 188339\n",
      "Data columns (total 10 columns):\n",
      " #   Column         Non-Null Count   Dtype  \n",
      "---  ------         --------------   -----  \n",
      " 0   ID             188340 non-null  object \n",
      " 1   Store_id       188340 non-null  int64  \n",
      " 2   Store_Type     188340 non-null  object \n",
      " 3   Location_Type  188340 non-null  object \n",
      " 4   Region_Code    188340 non-null  object \n",
      " 5   Date           188340 non-null  object \n",
      " 6   Holiday        188340 non-null  int64  \n",
      " 7   Discount       188340 non-null  object \n",
      " 8   #Order         188340 non-null  int64  \n",
      " 9   Sales          188340 non-null  float64\n",
      "dtypes: float64(1), int64(3), object(6)\n",
      "memory usage: 14.4+ MB\n"
     ]
    }
   ],
   "source": [
    "df_train.info()"
   ]
  },
  {
   "cell_type": "code",
   "execution_count": 7,
   "id": "a8003d6f",
   "metadata": {
    "execution": {
     "iopub.execute_input": "2021-10-18T21:51:10.249119Z",
     "iopub.status.busy": "2021-10-18T21:51:10.248376Z",
     "iopub.status.idle": "2021-10-18T21:51:10.372418Z",
     "shell.execute_reply": "2021-10-18T21:51:10.372961Z",
     "shell.execute_reply.started": "2021-10-18T19:43:52.116791Z"
    },
    "papermill": {
     "duration": 0.165909,
     "end_time": "2021-10-18T21:51:10.373126",
     "exception": false,
     "start_time": "2021-10-18T21:51:10.207217",
     "status": "completed"
    },
    "tags": []
   },
   "outputs": [
    {
     "name": "stdout",
     "output_type": "stream",
     "text": [
      "<class 'pandas.core.frame.DataFrame'>\n",
      "RangeIndex: 188340 entries, 0 to 188339\n",
      "Data columns (total 10 columns):\n",
      " #   Column         Non-Null Count   Dtype         \n",
      "---  ------         --------------   -----         \n",
      " 0   ID             188340 non-null  object        \n",
      " 1   Store_id       188340 non-null  int64         \n",
      " 2   Store_Type     188340 non-null  object        \n",
      " 3   Location_Type  188340 non-null  object        \n",
      " 4   Region_Code    188340 non-null  object        \n",
      " 5   Date           188340 non-null  datetime64[ns]\n",
      " 6   Holiday        188340 non-null  int64         \n",
      " 7   Discount       188340 non-null  object        \n",
      " 8   #Order         188340 non-null  int64         \n",
      " 9   Sales          188340 non-null  float64       \n",
      "dtypes: datetime64[ns](1), float64(1), int64(3), object(5)\n",
      "memory usage: 14.4+ MB\n"
     ]
    }
   ],
   "source": [
    "df_train.Date = pd.to_datetime(df_train.Date)\n",
    "df_train.info()"
   ]
  },
  {
   "cell_type": "code",
   "execution_count": 8,
   "id": "984dd149",
   "metadata": {
    "execution": {
     "iopub.execute_input": "2021-10-18T21:51:10.435800Z",
     "iopub.status.busy": "2021-10-18T21:51:10.435026Z",
     "iopub.status.idle": "2021-10-18T21:51:10.441734Z",
     "shell.execute_reply": "2021-10-18T21:51:10.441272Z",
     "shell.execute_reply.started": "2021-10-18T19:43:52.262464Z"
    },
    "papermill": {
     "duration": 0.039087,
     "end_time": "2021-10-18T21:51:10.441847",
     "exception": false,
     "start_time": "2021-10-18T21:51:10.402760",
     "status": "completed"
    },
    "tags": []
   },
   "outputs": [],
   "source": [
    "df_test.Date = pd.to_datetime(df_test.Date)"
   ]
  },
  {
   "cell_type": "code",
   "execution_count": 9,
   "id": "4a4cef39",
   "metadata": {
    "execution": {
     "iopub.execute_input": "2021-10-18T21:51:10.503242Z",
     "iopub.status.busy": "2021-10-18T21:51:10.502433Z",
     "iopub.status.idle": "2021-10-18T21:51:10.505755Z",
     "shell.execute_reply": "2021-10-18T21:51:10.506223Z",
     "shell.execute_reply.started": "2021-10-18T19:43:52.275839Z"
    },
    "papermill": {
     "duration": 0.037062,
     "end_time": "2021-10-18T21:51:10.506365",
     "exception": false,
     "start_time": "2021-10-18T21:51:10.469303",
     "status": "completed"
    },
    "tags": []
   },
   "outputs": [
    {
     "data": {
      "text/plain": [
       "(188340, 10)"
      ]
     },
     "execution_count": 9,
     "metadata": {},
     "output_type": "execute_result"
    }
   ],
   "source": [
    "df_train.shape"
   ]
  },
  {
   "cell_type": "code",
   "execution_count": 10,
   "id": "ed481dec",
   "metadata": {
    "execution": {
     "iopub.execute_input": "2021-10-18T21:51:10.573746Z",
     "iopub.status.busy": "2021-10-18T21:51:10.572931Z",
     "iopub.status.idle": "2021-10-18T21:51:10.657369Z",
     "shell.execute_reply": "2021-10-18T21:51:10.656847Z",
     "shell.execute_reply.started": "2021-10-18T19:43:52.287744Z"
    },
    "papermill": {
     "duration": 0.120418,
     "end_time": "2021-10-18T21:51:10.657508",
     "exception": false,
     "start_time": "2021-10-18T21:51:10.537090",
     "status": "completed"
    },
    "tags": []
   },
   "outputs": [],
   "source": [
    "def dateSep(df):\n",
    "    df['Year'] = df['Date'].dt.year\n",
    "    df['Month'] = df['Date'].dt.month\n",
    "    df['Day'] = df['Date'].dt.day\n",
    "    df['dayofweek'] = df['Date'].dt.dayofweek\n",
    "\n",
    "dateSep(df_train)\n",
    "dateSep(df_test)"
   ]
  },
  {
   "cell_type": "code",
   "execution_count": 11,
   "id": "f47c03de",
   "metadata": {
    "execution": {
     "iopub.execute_input": "2021-10-18T21:51:10.773992Z",
     "iopub.status.busy": "2021-10-18T21:51:10.772949Z",
     "iopub.status.idle": "2021-10-18T21:51:10.796546Z",
     "shell.execute_reply": "2021-10-18T21:51:10.798948Z",
     "shell.execute_reply.started": "2021-10-18T21:49:12.127765Z"
    },
    "papermill": {
     "duration": 0.091861,
     "end_time": "2021-10-18T21:51:10.799113",
     "exception": false,
     "start_time": "2021-10-18T21:51:10.707252",
     "status": "completed"
    },
    "tags": []
   },
   "outputs": [
    {
     "data": {
      "text/html": [
       "<div>\n",
       "<style scoped>\n",
       "    .dataframe tbody tr th:only-of-type {\n",
       "        vertical-align: middle;\n",
       "    }\n",
       "\n",
       "    .dataframe tbody tr th {\n",
       "        vertical-align: top;\n",
       "    }\n",
       "\n",
       "    .dataframe thead th {\n",
       "        text-align: right;\n",
       "    }\n",
       "</style>\n",
       "<table border=\"1\" class=\"dataframe\">\n",
       "  <thead>\n",
       "    <tr style=\"text-align: right;\">\n",
       "      <th></th>\n",
       "      <th>ID</th>\n",
       "      <th>Store_id</th>\n",
       "      <th>Store_Type</th>\n",
       "      <th>Location_Type</th>\n",
       "      <th>Region_Code</th>\n",
       "      <th>Date</th>\n",
       "      <th>Holiday</th>\n",
       "      <th>Discount</th>\n",
       "      <th>#Order</th>\n",
       "      <th>Sales</th>\n",
       "      <th>Year</th>\n",
       "      <th>Month</th>\n",
       "      <th>Day</th>\n",
       "      <th>dayofweek</th>\n",
       "    </tr>\n",
       "  </thead>\n",
       "  <tbody>\n",
       "    <tr>\n",
       "      <th>0</th>\n",
       "      <td>T1000001</td>\n",
       "      <td>1</td>\n",
       "      <td>S1</td>\n",
       "      <td>L3</td>\n",
       "      <td>R1</td>\n",
       "      <td>2018-01-01</td>\n",
       "      <td>1</td>\n",
       "      <td>Yes</td>\n",
       "      <td>9</td>\n",
       "      <td>7011.84</td>\n",
       "      <td>2018</td>\n",
       "      <td>1</td>\n",
       "      <td>1</td>\n",
       "      <td>0</td>\n",
       "    </tr>\n",
       "    <tr>\n",
       "      <th>1</th>\n",
       "      <td>T1000002</td>\n",
       "      <td>253</td>\n",
       "      <td>S4</td>\n",
       "      <td>L2</td>\n",
       "      <td>R1</td>\n",
       "      <td>2018-01-01</td>\n",
       "      <td>1</td>\n",
       "      <td>Yes</td>\n",
       "      <td>60</td>\n",
       "      <td>51789.12</td>\n",
       "      <td>2018</td>\n",
       "      <td>1</td>\n",
       "      <td>1</td>\n",
       "      <td>0</td>\n",
       "    </tr>\n",
       "    <tr>\n",
       "      <th>2</th>\n",
       "      <td>T1000003</td>\n",
       "      <td>252</td>\n",
       "      <td>S3</td>\n",
       "      <td>L2</td>\n",
       "      <td>R1</td>\n",
       "      <td>2018-01-01</td>\n",
       "      <td>1</td>\n",
       "      <td>Yes</td>\n",
       "      <td>42</td>\n",
       "      <td>36868.20</td>\n",
       "      <td>2018</td>\n",
       "      <td>1</td>\n",
       "      <td>1</td>\n",
       "      <td>0</td>\n",
       "    </tr>\n",
       "    <tr>\n",
       "      <th>3</th>\n",
       "      <td>T1000004</td>\n",
       "      <td>251</td>\n",
       "      <td>S2</td>\n",
       "      <td>L3</td>\n",
       "      <td>R1</td>\n",
       "      <td>2018-01-01</td>\n",
       "      <td>1</td>\n",
       "      <td>Yes</td>\n",
       "      <td>23</td>\n",
       "      <td>19715.16</td>\n",
       "      <td>2018</td>\n",
       "      <td>1</td>\n",
       "      <td>1</td>\n",
       "      <td>0</td>\n",
       "    </tr>\n",
       "    <tr>\n",
       "      <th>4</th>\n",
       "      <td>T1000005</td>\n",
       "      <td>250</td>\n",
       "      <td>S2</td>\n",
       "      <td>L3</td>\n",
       "      <td>R4</td>\n",
       "      <td>2018-01-01</td>\n",
       "      <td>1</td>\n",
       "      <td>Yes</td>\n",
       "      <td>62</td>\n",
       "      <td>45614.52</td>\n",
       "      <td>2018</td>\n",
       "      <td>1</td>\n",
       "      <td>1</td>\n",
       "      <td>0</td>\n",
       "    </tr>\n",
       "  </tbody>\n",
       "</table>\n",
       "</div>"
      ],
      "text/plain": [
       "         ID  Store_id Store_Type Location_Type Region_Code       Date  \\\n",
       "0  T1000001         1         S1            L3          R1 2018-01-01   \n",
       "1  T1000002       253         S4            L2          R1 2018-01-01   \n",
       "2  T1000003       252         S3            L2          R1 2018-01-01   \n",
       "3  T1000004       251         S2            L3          R1 2018-01-01   \n",
       "4  T1000005       250         S2            L3          R4 2018-01-01   \n",
       "\n",
       "   Holiday Discount  #Order     Sales  Year  Month  Day  dayofweek  \n",
       "0        1      Yes       9   7011.84  2018      1    1          0  \n",
       "1        1      Yes      60  51789.12  2018      1    1          0  \n",
       "2        1      Yes      42  36868.20  2018      1    1          0  \n",
       "3        1      Yes      23  19715.16  2018      1    1          0  \n",
       "4        1      Yes      62  45614.52  2018      1    1          0  "
      ]
     },
     "execution_count": 11,
     "metadata": {},
     "output_type": "execute_result"
    }
   ],
   "source": [
    "df_train.head()"
   ]
  },
  {
   "cell_type": "code",
   "execution_count": 12,
   "id": "262424b8",
   "metadata": {
    "execution": {
     "iopub.execute_input": "2021-10-18T21:51:10.917545Z",
     "iopub.status.busy": "2021-10-18T21:51:10.916704Z",
     "iopub.status.idle": "2021-10-18T21:51:11.324642Z",
     "shell.execute_reply": "2021-10-18T21:51:11.325692Z",
     "shell.execute_reply.started": "2021-10-18T19:43:52.385134Z"
    },
    "papermill": {
     "duration": 0.471228,
     "end_time": "2021-10-18T21:51:11.325892",
     "exception": false,
     "start_time": "2021-10-18T21:51:10.854664",
     "status": "completed"
    },
    "tags": []
   },
   "outputs": [
    {
     "data": {
      "image/png": "[encoded data removed]",
      "text/plain": [
       "<Figure size 432x288 with 1 Axes>"
      ]
     },
     "metadata": {
      "needs_background": "light"
     },
     "output_type": "display_data"
    }
   ],
   "source": [
    "plt.Figure()\n",
    "plt.title('Sales')\n",
    "plt.plot(df_train['Sales'])\n",
    "plt.show()"
   ]
  },
  {
   "cell_type": "code",
   "execution_count": 13,
   "id": "37a94ceb",
   "metadata": {
    "execution": {
     "iopub.execute_input": "2021-10-18T21:51:11.401876Z",
     "iopub.status.busy": "2021-10-18T21:51:11.400949Z",
     "iopub.status.idle": "2021-10-18T21:51:11.430484Z",
     "shell.execute_reply": "2021-10-18T21:51:11.430926Z",
     "shell.execute_reply.started": "2021-10-18T19:43:52.645954Z"
    },
    "papermill": {
     "duration": 0.063419,
     "end_time": "2021-10-18T21:51:11.431094",
     "exception": false,
     "start_time": "2021-10-18T21:51:11.367675",
     "status": "completed"
    },
    "tags": []
   },
   "outputs": [],
   "source": [
    "dftrain2 = df_train.copy()\n",
    "dftest2 = df_test.copy()"
   ]
  },
  {
   "cell_type": "code",
   "execution_count": 14,
   "id": "12cb51ff",
   "metadata": {
    "execution": {
     "iopub.execute_input": "2021-10-18T21:51:11.497683Z",
     "iopub.status.busy": "2021-10-18T21:51:11.496810Z",
     "iopub.status.idle": "2021-10-18T21:51:11.521367Z",
     "shell.execute_reply": "2021-10-18T21:51:11.521806Z",
     "shell.execute_reply.started": "2021-10-18T19:43:52.681955Z"
    },
    "papermill": {
     "duration": 0.060499,
     "end_time": "2021-10-18T21:51:11.521956",
     "exception": false,
     "start_time": "2021-10-18T21:51:11.461457",
     "status": "completed"
    },
    "tags": []
   },
   "outputs": [
    {
     "data": {
      "text/html": [
       "<div>\n",
       "<style scoped>\n",
       "    .dataframe tbody tr th:only-of-type {\n",
       "        vertical-align: middle;\n",
       "    }\n",
       "\n",
       "    .dataframe tbody tr th {\n",
       "        vertical-align: top;\n",
       "    }\n",
       "\n",
       "    .dataframe thead th {\n",
       "        text-align: right;\n",
       "    }\n",
       "</style>\n",
       "<table border=\"1\" class=\"dataframe\">\n",
       "  <thead>\n",
       "    <tr style=\"text-align: right;\">\n",
       "      <th></th>\n",
       "      <th>ID</th>\n",
       "      <th>Store_id</th>\n",
       "      <th>Store_Type</th>\n",
       "      <th>Location_Type</th>\n",
       "      <th>Region_Code</th>\n",
       "      <th>Date</th>\n",
       "      <th>Holiday</th>\n",
       "      <th>Discount</th>\n",
       "      <th>#Order</th>\n",
       "      <th>Year</th>\n",
       "      <th>Month</th>\n",
       "      <th>Day</th>\n",
       "      <th>dayofweek</th>\n",
       "    </tr>\n",
       "  </thead>\n",
       "  <tbody>\n",
       "    <tr>\n",
       "      <th>0</th>\n",
       "      <td>T1000001</td>\n",
       "      <td>1</td>\n",
       "      <td>S1</td>\n",
       "      <td>L3</td>\n",
       "      <td>R1</td>\n",
       "      <td>2018-01-01</td>\n",
       "      <td>1</td>\n",
       "      <td>Yes</td>\n",
       "      <td>9</td>\n",
       "      <td>2018</td>\n",
       "      <td>1</td>\n",
       "      <td>1</td>\n",
       "      <td>0</td>\n",
       "    </tr>\n",
       "    <tr>\n",
       "      <th>1</th>\n",
       "      <td>T1000002</td>\n",
       "      <td>253</td>\n",
       "      <td>S4</td>\n",
       "      <td>L2</td>\n",
       "      <td>R1</td>\n",
       "      <td>2018-01-01</td>\n",
       "      <td>1</td>\n",
       "      <td>Yes</td>\n",
       "      <td>60</td>\n",
       "      <td>2018</td>\n",
       "      <td>1</td>\n",
       "      <td>1</td>\n",
       "      <td>0</td>\n",
       "    </tr>\n",
       "    <tr>\n",
       "      <th>2</th>\n",
       "      <td>T1000003</td>\n",
       "      <td>252</td>\n",
       "      <td>S3</td>\n",
       "      <td>L2</td>\n",
       "      <td>R1</td>\n",
       "      <td>2018-01-01</td>\n",
       "      <td>1</td>\n",
       "      <td>Yes</td>\n",
       "      <td>42</td>\n",
       "      <td>2018</td>\n",
       "      <td>1</td>\n",
       "      <td>1</td>\n",
       "      <td>0</td>\n",
       "    </tr>\n",
       "    <tr>\n",
       "      <th>3</th>\n",
       "      <td>T1000004</td>\n",
       "      <td>251</td>\n",
       "      <td>S2</td>\n",
       "      <td>L3</td>\n",
       "      <td>R1</td>\n",
       "      <td>2018-01-01</td>\n",
       "      <td>1</td>\n",
       "      <td>Yes</td>\n",
       "      <td>23</td>\n",
       "      <td>2018</td>\n",
       "      <td>1</td>\n",
       "      <td>1</td>\n",
       "      <td>0</td>\n",
       "    </tr>\n",
       "    <tr>\n",
       "      <th>4</th>\n",
       "      <td>T1000005</td>\n",
       "      <td>250</td>\n",
       "      <td>S2</td>\n",
       "      <td>L3</td>\n",
       "      <td>R4</td>\n",
       "      <td>2018-01-01</td>\n",
       "      <td>1</td>\n",
       "      <td>Yes</td>\n",
       "      <td>62</td>\n",
       "      <td>2018</td>\n",
       "      <td>1</td>\n",
       "      <td>1</td>\n",
       "      <td>0</td>\n",
       "    </tr>\n",
       "  </tbody>\n",
       "</table>\n",
       "</div>"
      ],
      "text/plain": [
       "         ID  Store_id Store_Type Location_Type Region_Code       Date  \\\n",
       "0  T1000001         1         S1            L3          R1 2018-01-01   \n",
       "1  T1000002       253         S4            L2          R1 2018-01-01   \n",
       "2  T1000003       252         S3            L2          R1 2018-01-01   \n",
       "3  T1000004       251         S2            L3          R1 2018-01-01   \n",
       "4  T1000005       250         S2            L3          R4 2018-01-01   \n",
       "\n",
       "   Holiday Discount  #Order  Year  Month  Day  dayofweek  \n",
       "0        1      Yes       9  2018      1    1          0  \n",
       "1        1      Yes      60  2018      1    1          0  \n",
       "2        1      Yes      42  2018      1    1          0  \n",
       "3        1      Yes      23  2018      1    1          0  \n",
       "4        1      Yes      62  2018      1    1          0  "
      ]
     },
     "execution_count": 14,
     "metadata": {},
     "output_type": "execute_result"
    }
   ],
   "source": [
    "y = pd.DataFrame(dftrain2.Sales)\n",
    "dftrain2.drop(['Sales'], axis=1, inplace=True)\n",
    "dftrain2.head()"
   ]
  },
  {
   "cell_type": "code",
   "execution_count": 15,
   "id": "aa137703",
   "metadata": {
    "execution": {
     "iopub.execute_input": "2021-10-18T21:51:11.586998Z",
     "iopub.status.busy": "2021-10-18T21:51:11.586308Z",
     "iopub.status.idle": "2021-10-18T21:51:12.283672Z",
     "shell.execute_reply": "2021-10-18T21:51:12.283096Z",
     "shell.execute_reply.started": "2021-10-18T19:43:52.710223Z"
    },
    "papermill": {
     "duration": 0.731405,
     "end_time": "2021-10-18T21:51:12.283830",
     "exception": false,
     "start_time": "2021-10-18T21:51:11.552425",
     "status": "completed"
    },
    "tags": []
   },
   "outputs": [],
   "source": [
    "from sklearn.preprocessing import LabelEncoder\n",
    "cat_cols = [cname for cname in dftrain2.columns if\n",
    "           dftrain2[cname].dtype == 'object']\n",
    "encoder = LabelEncoder()\n",
    "for col in cat_cols:\n",
    "    dftrain2[col] = encoder.fit_transform(dftrain2[col])\n",
    "    dftest2[col] = encoder.fit_transform(dftest2[col])"
   ]
  },
  {
   "cell_type": "code",
   "execution_count": 16,
   "id": "ae9f149d",
   "metadata": {
    "execution": {
     "iopub.execute_input": "2021-10-18T21:51:12.349953Z",
     "iopub.status.busy": "2021-10-18T21:51:12.348685Z",
     "iopub.status.idle": "2021-10-18T21:51:12.359720Z",
     "shell.execute_reply": "2021-10-18T21:51:12.360142Z",
     "shell.execute_reply.started": "2021-10-18T19:43:53.213363Z"
    },
    "papermill": {
     "duration": 0.046343,
     "end_time": "2021-10-18T21:51:12.360275",
     "exception": false,
     "start_time": "2021-10-18T21:51:12.313932",
     "status": "completed"
    },
    "tags": []
   },
   "outputs": [
    {
     "data": {
      "text/html": [
       "<div>\n",
       "<style scoped>\n",
       "    .dataframe tbody tr th:only-of-type {\n",
       "        vertical-align: middle;\n",
       "    }\n",
       "\n",
       "    .dataframe tbody tr th {\n",
       "        vertical-align: top;\n",
       "    }\n",
       "\n",
       "    .dataframe thead th {\n",
       "        text-align: right;\n",
       "    }\n",
       "</style>\n",
       "<table border=\"1\" class=\"dataframe\">\n",
       "  <thead>\n",
       "    <tr style=\"text-align: right;\">\n",
       "      <th></th>\n",
       "      <th>ID</th>\n",
       "      <th>Store_id</th>\n",
       "      <th>Store_Type</th>\n",
       "      <th>Location_Type</th>\n",
       "      <th>Region_Code</th>\n",
       "      <th>Date</th>\n",
       "      <th>Holiday</th>\n",
       "      <th>Discount</th>\n",
       "      <th>#Order</th>\n",
       "      <th>Year</th>\n",
       "      <th>Month</th>\n",
       "      <th>Day</th>\n",
       "      <th>dayofweek</th>\n",
       "    </tr>\n",
       "  </thead>\n",
       "  <tbody>\n",
       "    <tr>\n",
       "      <th>0</th>\n",
       "      <td>0</td>\n",
       "      <td>1</td>\n",
       "      <td>0</td>\n",
       "      <td>2</td>\n",
       "      <td>0</td>\n",
       "      <td>2018-01-01</td>\n",
       "      <td>1</td>\n",
       "      <td>1</td>\n",
       "      <td>9</td>\n",
       "      <td>2018</td>\n",
       "      <td>1</td>\n",
       "      <td>1</td>\n",
       "      <td>0</td>\n",
       "    </tr>\n",
       "    <tr>\n",
       "      <th>1</th>\n",
       "      <td>1</td>\n",
       "      <td>253</td>\n",
       "      <td>3</td>\n",
       "      <td>1</td>\n",
       "      <td>0</td>\n",
       "      <td>2018-01-01</td>\n",
       "      <td>1</td>\n",
       "      <td>1</td>\n",
       "      <td>60</td>\n",
       "      <td>2018</td>\n",
       "      <td>1</td>\n",
       "      <td>1</td>\n",
       "      <td>0</td>\n",
       "    </tr>\n",
       "    <tr>\n",
       "      <th>2</th>\n",
       "      <td>2</td>\n",
       "      <td>252</td>\n",
       "      <td>2</td>\n",
       "      <td>1</td>\n",
       "      <td>0</td>\n",
       "      <td>2018-01-01</td>\n",
       "      <td>1</td>\n",
       "      <td>1</td>\n",
       "      <td>42</td>\n",
       "      <td>2018</td>\n",
       "      <td>1</td>\n",
       "      <td>1</td>\n",
       "      <td>0</td>\n",
       "    </tr>\n",
       "    <tr>\n",
       "      <th>3</th>\n",
       "      <td>3</td>\n",
       "      <td>251</td>\n",
       "      <td>1</td>\n",
       "      <td>2</td>\n",
       "      <td>0</td>\n",
       "      <td>2018-01-01</td>\n",
       "      <td>1</td>\n",
       "      <td>1</td>\n",
       "      <td>23</td>\n",
       "      <td>2018</td>\n",
       "      <td>1</td>\n",
       "      <td>1</td>\n",
       "      <td>0</td>\n",
       "    </tr>\n",
       "    <tr>\n",
       "      <th>4</th>\n",
       "      <td>4</td>\n",
       "      <td>250</td>\n",
       "      <td>1</td>\n",
       "      <td>2</td>\n",
       "      <td>3</td>\n",
       "      <td>2018-01-01</td>\n",
       "      <td>1</td>\n",
       "      <td>1</td>\n",
       "      <td>62</td>\n",
       "      <td>2018</td>\n",
       "      <td>1</td>\n",
       "      <td>1</td>\n",
       "      <td>0</td>\n",
       "    </tr>\n",
       "  </tbody>\n",
       "</table>\n",
       "</div>"
      ],
      "text/plain": [
       "   ID  Store_id  Store_Type  Location_Type  Region_Code       Date  Holiday  \\\n",
       "0   0         1           0              2            0 2018-01-01        1   \n",
       "1   1       253           3              1            0 2018-01-01        1   \n",
       "2   2       252           2              1            0 2018-01-01        1   \n",
       "3   3       251           1              2            0 2018-01-01        1   \n",
       "4   4       250           1              2            3 2018-01-01        1   \n",
       "\n",
       "   Discount  #Order  Year  Month  Day  dayofweek  \n",
       "0         1       9  2018      1    1          0  \n",
       "1         1      60  2018      1    1          0  \n",
       "2         1      42  2018      1    1          0  \n",
       "3         1      23  2018      1    1          0  \n",
       "4         1      62  2018      1    1          0  "
      ]
     },
     "execution_count": 16,
     "metadata": {},
     "output_type": "execute_result"
    }
   ],
   "source": [
    "dftrain2.head()"
   ]
  },
  {
   "cell_type": "code",
   "execution_count": 17,
   "id": "2cad5a7f",
   "metadata": {
    "execution": {
     "iopub.execute_input": "2021-10-18T21:51:12.424550Z",
     "iopub.status.busy": "2021-10-18T21:51:12.423359Z",
     "iopub.status.idle": "2021-10-18T21:51:12.444002Z",
     "shell.execute_reply": "2021-10-18T21:51:12.443518Z",
     "shell.execute_reply.started": "2021-10-18T19:43:53.228230Z"
    },
    "papermill": {
     "duration": 0.054439,
     "end_time": "2021-10-18T21:51:12.444128",
     "exception": false,
     "start_time": "2021-10-18T21:51:12.389689",
     "status": "completed"
    },
    "tags": []
   },
   "outputs": [],
   "source": [
    "dftrain2.drop(['Date', 'ID'], axis=1, inplace=True)"
   ]
  },
  {
   "cell_type": "code",
   "execution_count": 18,
   "id": "470c17d0",
   "metadata": {
    "execution": {
     "iopub.execute_input": "2021-10-18T21:51:12.511602Z",
     "iopub.status.busy": "2021-10-18T21:51:12.510615Z",
     "iopub.status.idle": "2021-10-18T21:51:12.515170Z",
     "shell.execute_reply": "2021-10-18T21:51:12.514732Z",
     "shell.execute_reply.started": "2021-10-18T19:43:53.251211Z"
    },
    "papermill": {
     "duration": 0.040354,
     "end_time": "2021-10-18T21:51:12.515289",
     "exception": false,
     "start_time": "2021-10-18T21:51:12.474935",
     "status": "completed"
    },
    "tags": []
   },
   "outputs": [],
   "source": [
    "dftest2.drop(['Date'], axis=1, inplace=True)"
   ]
  },
  {
   "cell_type": "code",
   "execution_count": 19,
   "id": "cd8978ff",
   "metadata": {
    "execution": {
     "iopub.execute_input": "2021-10-18T21:51:12.580940Z",
     "iopub.status.busy": "2021-10-18T21:51:12.579801Z",
     "iopub.status.idle": "2021-10-18T21:51:12.587097Z",
     "shell.execute_reply": "2021-10-18T21:51:12.586682Z",
     "shell.execute_reply.started": "2021-10-18T19:43:53.260750Z"
    },
    "papermill": {
     "duration": 0.041017,
     "end_time": "2021-10-18T21:51:12.587208",
     "exception": false,
     "start_time": "2021-10-18T21:51:12.546191",
     "status": "completed"
    },
    "tags": []
   },
   "outputs": [],
   "source": [
    "dftrain3 = dftrain2.copy()"
   ]
  },
  {
   "cell_type": "code",
   "execution_count": 20,
   "id": "5879751f",
   "metadata": {
    "execution": {
     "iopub.execute_input": "2021-10-18T21:51:12.651895Z",
     "iopub.status.busy": "2021-10-18T21:51:12.650720Z",
     "iopub.status.idle": "2021-10-18T21:51:12.658155Z",
     "shell.execute_reply": "2021-10-18T21:51:12.658576Z",
     "shell.execute_reply.started": "2021-10-18T19:43:53.269518Z"
    },
    "papermill": {
     "duration": 0.041449,
     "end_time": "2021-10-18T21:51:12.658714",
     "exception": false,
     "start_time": "2021-10-18T21:51:12.617265",
     "status": "completed"
    },
    "tags": []
   },
   "outputs": [],
   "source": [
    "dftrain3 = np.array(dftrain3)\n",
    "dftest2  = np.array(dftest2)"
   ]
  },
  {
   "cell_type": "code",
   "execution_count": 21,
   "id": "f1dabbf6",
   "metadata": {
    "execution": {
     "iopub.execute_input": "2021-10-18T21:51:12.724819Z",
     "iopub.status.busy": "2021-10-18T21:51:12.723820Z",
     "iopub.status.idle": "2021-10-18T21:51:12.970834Z",
     "shell.execute_reply": "2021-10-18T21:51:12.970321Z",
     "shell.execute_reply.started": "2021-10-18T19:43:53.280413Z"
    },
    "papermill": {
     "duration": 0.282027,
     "end_time": "2021-10-18T21:51:12.970976",
     "exception": false,
     "start_time": "2021-10-18T21:51:12.688949",
     "status": "completed"
    },
    "tags": []
   },
   "outputs": [],
   "source": [
    "from sklearn.preprocessing import QuantileTransformer\n",
    "\n",
    "qt = QuantileTransformer(n_quantiles=300, output_distribution='uniform')\n",
    "dftrain3 = qt.fit_transform(dftrain3)\n",
    "dftest2 = qt.transform(dftest2)\n",
    "\n",
    "qty = QuantileTransformer(n_quantiles=300, output_distribution='uniform')\n",
    "y = qty.fit_transform(y)"
   ]
  },
  {
   "cell_type": "code",
   "execution_count": 22,
   "id": "ed768baa",
   "metadata": {
    "execution": {
     "iopub.execute_input": "2021-10-18T21:51:13.040965Z",
     "iopub.status.busy": "2021-10-18T21:51:13.039890Z",
     "iopub.status.idle": "2021-10-18T21:51:13.059007Z",
     "shell.execute_reply": "2021-10-18T21:51:13.058480Z",
     "shell.execute_reply.started": "2021-10-18T19:43:53.528176Z"
    },
    "papermill": {
     "duration": 0.057767,
     "end_time": "2021-10-18T21:51:13.059132",
     "exception": false,
     "start_time": "2021-10-18T21:51:13.001365",
     "status": "completed"
    },
    "tags": []
   },
   "outputs": [],
   "source": [
    "from sklearn.preprocessing import MinMaxScaler\n",
    "scaler = MinMaxScaler()\n",
    "dftrain2 = scaler.fit_transform(dftrain2)\n",
    "dftest2 = scaler.transform(dftest2)\n",
    "y_scaler = MinMaxScaler()\n",
    "y_sc = y_scaler.fit_transform(y)"
   ]
  },
  {
   "cell_type": "code",
   "execution_count": 23,
   "id": "bfc9e4b5",
   "metadata": {
    "execution": {
     "iopub.execute_input": "2021-10-18T21:51:13.124142Z",
     "iopub.status.busy": "2021-10-18T21:51:13.123441Z",
     "iopub.status.idle": "2021-10-18T21:51:13.192737Z",
     "shell.execute_reply": "2021-10-18T21:51:13.191899Z",
     "shell.execute_reply.started": "2021-10-18T19:43:53.553895Z"
    },
    "papermill": {
     "duration": 0.103053,
     "end_time": "2021-10-18T21:51:13.192864",
     "exception": false,
     "start_time": "2021-10-18T21:51:13.089811",
     "status": "completed"
    },
    "tags": []
   },
   "outputs": [
    {
     "data": {
      "text/plain": [
       "((131838, 11), (56502, 11))"
      ]
     },
     "execution_count": 23,
     "metadata": {},
     "output_type": "execute_result"
    }
   ],
   "source": [
    "from sklearn.model_selection import train_test_split\n",
    "x_train, x_valid, y_train_ini, y_valid_ini = train_test_split(dftrain3, y, test_size=0.3, random_state=200)\n",
    "x_train.shape, x_valid.shape"
   ]
  },
  {
   "cell_type": "code",
   "execution_count": 24,
   "id": "faff2780",
   "metadata": {
    "execution": {
     "iopub.execute_input": "2021-10-18T21:51:13.266061Z",
     "iopub.status.busy": "2021-10-18T21:51:13.265296Z",
     "iopub.status.idle": "2021-10-18T21:51:13.268385Z",
     "shell.execute_reply": "2021-10-18T21:51:13.268924Z",
     "shell.execute_reply.started": "2021-10-18T19:43:53.626967Z"
    },
    "papermill": {
     "duration": 0.04517,
     "end_time": "2021-10-18T21:51:13.269096",
     "exception": false,
     "start_time": "2021-10-18T21:51:13.223926",
     "status": "completed"
    },
    "tags": []
   },
   "outputs": [
    {
     "data": {
      "text/plain": [
       "(131838, 11, 1)"
      ]
     },
     "execution_count": 24,
     "metadata": {},
     "output_type": "execute_result"
    }
   ],
   "source": [
    "X_train = np.reshape(x_train, (x_train.shape[0], x_train.shape[1], 1))\n",
    "X_train.shape"
   ]
  },
  {
   "cell_type": "code",
   "execution_count": 25,
   "id": "b3242d15",
   "metadata": {
    "execution": {
     "iopub.execute_input": "2021-10-18T21:51:13.346778Z",
     "iopub.status.busy": "2021-10-18T21:51:13.346026Z",
     "iopub.status.idle": "2021-10-18T21:51:13.349073Z",
     "shell.execute_reply": "2021-10-18T21:51:13.349555Z",
     "shell.execute_reply.started": "2021-10-18T19:43:53.638015Z"
    },
    "papermill": {
     "duration": 0.044909,
     "end_time": "2021-10-18T21:51:13.349719",
     "exception": false,
     "start_time": "2021-10-18T21:51:13.304810",
     "status": "completed"
    },
    "tags": []
   },
   "outputs": [
    {
     "data": {
      "text/plain": [
       "(56502, 11, 1)"
      ]
     },
     "execution_count": 25,
     "metadata": {},
     "output_type": "execute_result"
    }
   ],
   "source": [
    "X_valid = np.reshape(x_valid, (x_valid.shape[0], x_valid.shape[1], 1))\n",
    "X_valid.shape"
   ]
  },
  {
   "cell_type": "code",
   "execution_count": 26,
   "id": "884ef19b",
   "metadata": {
    "execution": {
     "iopub.execute_input": "2021-10-18T21:51:13.476239Z",
     "iopub.status.busy": "2021-10-18T21:51:13.475375Z",
     "iopub.status.idle": "2021-10-18T21:51:17.988486Z",
     "shell.execute_reply": "2021-10-18T21:51:17.987982Z",
     "shell.execute_reply.started": "2021-10-18T19:43:53.649412Z"
    },
    "papermill": {
     "duration": 4.55543,
     "end_time": "2021-10-18T21:51:17.988659",
     "exception": false,
     "start_time": "2021-10-18T21:51:13.433229",
     "status": "completed"
    },
    "tags": []
   },
   "outputs": [],
   "source": [
    "import tensorflow as tf\n",
    "from tensorflow.keras.callbacks import EarlyStopping\n",
    "from tensorflow.keras.models import Sequential\n",
    "from tensorflow.keras.layers import Dense, LSTM, Bidirectional, Dropout, Input\n",
    "from tensorflow.keras import Model"
   ]
  },
  {
   "cell_type": "code",
   "execution_count": 27,
   "id": "4d0d0b4f",
   "metadata": {
    "execution": {
     "iopub.execute_input": "2021-10-18T21:51:18.059099Z",
     "iopub.status.busy": "2021-10-18T21:51:18.058264Z",
     "iopub.status.idle": "2021-10-18T21:51:18.060916Z",
     "shell.execute_reply": "2021-10-18T21:51:18.060406Z",
     "shell.execute_reply.started": "2021-10-18T19:43:58.484528Z"
    },
    "papermill": {
     "duration": 0.039744,
     "end_time": "2021-10-18T21:51:18.061031",
     "exception": false,
     "start_time": "2021-10-18T21:51:18.021287",
     "status": "completed"
    },
    "tags": []
   },
   "outputs": [],
   "source": [
    "checkpoint_filepath = 'best.h5'\n",
    "save_model_callback = tf.keras.callbacks.ModelCheckpoint(\n",
    "    filepath=checkpoint_filepath,\n",
    "    save_weights_only=False,\n",
    "    monitor='val_loss',\n",
    "    mode='min',\n",
    "    verbose=1,\n",
    "    save_best_only=True)"
   ]
  },
  {
   "cell_type": "code",
   "execution_count": 28,
   "id": "77b15e13",
   "metadata": {
    "execution": {
     "iopub.execute_input": "2021-10-18T21:51:18.126736Z",
     "iopub.status.busy": "2021-10-18T21:51:18.126134Z",
     "iopub.status.idle": "2021-10-18T21:51:18.128378Z",
     "shell.execute_reply": "2021-10-18T21:51:18.128837Z",
     "shell.execute_reply.started": "2021-10-18T19:43:58.494971Z"
    },
    "papermill": {
     "duration": 0.036784,
     "end_time": "2021-10-18T21:51:18.128963",
     "exception": false,
     "start_time": "2021-10-18T21:51:18.092179",
     "status": "completed"
    },
    "tags": []
   },
   "outputs": [],
   "source": [
    "from tensorflow.keras.callbacks import ReduceLROnPlateau\n",
    "reduce_lr = ReduceLROnPlateau(monitor='val_loss', factor=0.5, patience=100, min_lr=0.0005, verbose=1, mode='min')"
   ]
  },
  {
   "cell_type": "code",
   "execution_count": 29,
   "id": "1d0d821f",
   "metadata": {
    "execution": {
     "iopub.execute_input": "2021-10-18T21:51:18.196499Z",
     "iopub.status.busy": "2021-10-18T21:51:18.195729Z",
     "iopub.status.idle": "2021-10-18T21:51:18.198153Z",
     "shell.execute_reply": "2021-10-18T21:51:18.197725Z",
     "shell.execute_reply.started": "2021-10-18T19:43:58.514215Z"
    },
    "papermill": {
     "duration": 0.038806,
     "end_time": "2021-10-18T21:51:18.198278",
     "exception": false,
     "start_time": "2021-10-18T21:51:18.159472",
     "status": "completed"
    },
    "tags": []
   },
   "outputs": [],
   "source": [
    "# build model\n",
    "def create_lstm_model():\n",
    "    init = Input(shape=(X_train.shape[-2], X_train.shape[-1]))\n",
    "    lstm = Bidirectional(LSTM(940, return_sequences=True))(init)\n",
    "    lstm = Bidirectional(LSTM(540, return_sequences=True))(lstm)\n",
    "    lstm = Dropout(0.02)(lstm)\n",
    "    lstm = Dense(512, activation='swish')(lstm)\n",
    "    lstm = Dense(1)(lstm)\n",
    "    \n",
    "    model = Model(inputs=init, outputs=lstm)\n",
    "    model.compile(optimizer='Adam', loss='mae')\n",
    "    return model"
   ]
  },
  {
   "cell_type": "code",
   "execution_count": 30,
   "id": "3e15081d",
   "metadata": {
    "execution": {
     "iopub.execute_input": "2021-10-18T21:51:18.263417Z",
     "iopub.status.busy": "2021-10-18T21:51:18.262675Z",
     "iopub.status.idle": "2021-10-18T21:51:18.265057Z",
     "shell.execute_reply": "2021-10-18T21:51:18.264627Z",
     "shell.execute_reply.started": "2021-10-18T19:43:58.536648Z"
    },
    "papermill": {
     "duration": 0.036399,
     "end_time": "2021-10-18T21:51:18.265156",
     "exception": false,
     "start_time": "2021-10-18T21:51:18.228757",
     "status": "completed"
    },
    "tags": []
   },
   "outputs": [],
   "source": [
    "# global variables\n",
    "BATCH_SIZE = 512\n",
    "SEED = 200\n",
    "EPOCHS = 100"
   ]
  },
  {
   "cell_type": "code",
   "execution_count": 31,
   "id": "726b95cb",
   "metadata": {
    "execution": {
     "iopub.execute_input": "2021-10-18T21:51:18.330459Z",
     "iopub.status.busy": "2021-10-18T21:51:18.329668Z",
     "iopub.status.idle": "2021-10-18T21:51:18.334196Z",
     "shell.execute_reply": "2021-10-18T21:51:18.333743Z",
     "shell.execute_reply.started": "2021-10-18T19:43:58.548318Z"
    },
    "papermill": {
     "duration": 0.037652,
     "end_time": "2021-10-18T21:51:18.334300",
     "exception": false,
     "start_time": "2021-10-18T21:51:18.296648",
     "status": "completed"
    },
    "tags": []
   },
   "outputs": [],
   "source": [
    "es = EarlyStopping(monitor='val_loss', patience=30, verbose=1, mode='min', restore_best_weights=True)"
   ]
  },
  {
   "cell_type": "code",
   "execution_count": 32,
   "id": "55e0a0ab",
   "metadata": {
    "execution": {
     "iopub.execute_input": "2021-10-18T21:51:18.401850Z",
     "iopub.status.busy": "2021-10-18T21:51:18.401192Z",
     "iopub.status.idle": "2021-10-18T22:44:57.104940Z",
     "shell.execute_reply": "2021-10-18T22:44:57.105444Z",
     "shell.execute_reply.started": "2021-10-18T19:43:58.559787Z"
    },
    "papermill": {
     "duration": 3218.739659,
     "end_time": "2021-10-18T22:44:57.105630",
     "exception": false,
     "start_time": "2021-10-18T21:51:18.365971",
     "status": "completed"
    },
    "tags": []
   },
   "outputs": [
    {
     "name": "stderr",
     "output_type": "stream",
     "text": [
      "2021-10-18 21:51:18.470658: I tensorflow/stream_executor/cuda/cuda_gpu_executor.cc:937] successful NUMA node read from SysFS had negative value (-1), but there must be at least one NUMA node, so returning NUMA node zero\n",
      "2021-10-18 21:51:18.558302: I tensorflow/stream_executor/cuda/cuda_gpu_executor.cc:937] successful NUMA node read from SysFS had negative value (-1), but there must be at least one NUMA node, so returning NUMA node zero\n",
      "2021-10-18 21:51:18.559078: I tensorflow/stream_executor/cuda/cuda_gpu_executor.cc:937] successful NUMA node read from SysFS had negative value (-1), but there must be at least one NUMA node, so returning NUMA node zero\n",
      "2021-10-18 21:51:18.561104: I tensorflow/core/platform/cpu_feature_guard.cc:142] This TensorFlow binary is optimized with oneAPI Deep Neural Network Library (oneDNN) to use the following CPU instructions in performance-critical operations:  AVX2 AVX512F FMA\n",
      "To enable them in other operations, rebuild TensorFlow with the appropriate compiler flags.\n",
      "2021-10-18 21:51:18.561922: I tensorflow/stream_executor/cuda/cuda_gpu_executor.cc:937] successful NUMA node read from SysFS had negative value (-1), but there must be at least one NUMA node, so returning NUMA node zero\n",
      "2021-10-18 21:51:18.562675: I tensorflow/stream_executor/cuda/cuda_gpu_executor.cc:937] successful NUMA node read from SysFS had negative value (-1), but there must be at least one NUMA node, so returning NUMA node zero\n",
      "2021-10-18 21:51:18.563365: I tensorflow/stream_executor/cuda/cuda_gpu_executor.cc:937] successful NUMA node read from SysFS had negative value (-1), but there must be at least one NUMA node, so returning NUMA node zero\n",
      "2021-10-18 21:51:20.322298: I tensorflow/stream_executor/cuda/cuda_gpu_executor.cc:937] successful NUMA node read from SysFS had negative value (-1), but there must be at least one NUMA node, so returning NUMA node zero\n",
      "2021-10-18 21:51:20.323169: I tensorflow/stream_executor/cuda/cuda_gpu_executor.cc:937] successful NUMA node read from SysFS had negative value (-1), but there must be at least one NUMA node, so returning NUMA node zero\n",
      "2021-10-18 21:51:20.323888: I tensorflow/stream_executor/cuda/cuda_gpu_executor.cc:937] successful NUMA node read from SysFS had negative value (-1), but there must be at least one NUMA node, so returning NUMA node zero\n",
      "2021-10-18 21:51:20.324486: I tensorflow/core/common_runtime/gpu/gpu_device.cc:1510] Created device /job:localhost/replica:0/task:0/device:GPU:0 with 15403 MB memory:  -> device: 0, name: Tesla P100-PCIE-16GB, pci bus id: 0000:00:04.0, compute capability: 6.0\n",
      "2021-10-18 21:51:23.600501: I tensorflow/compiler/mlir/mlir_graph_optimization_pass.cc:185] None of the MLIR Optimization Passes are enabled (registered 2)\n"
     ]
    },
    {
     "name": "stdout",
     "output_type": "stream",
     "text": [
      "Epoch 1/100\n"
     ]
    },
    {
     "name": "stderr",
     "output_type": "stream",
     "text": [
      "2021-10-18 21:51:28.782628: I tensorflow/stream_executor/cuda/cuda_dnn.cc:369] Loaded cuDNN version 8005\n"
     ]
    },
    {
     "name": "stdout",
     "output_type": "stream",
     "text": [
      "258/258 [==============================] - 39s 126ms/step - loss: 0.1923 - val_loss: 0.1295\n",
      "\n",
      "Epoch 00001: val_loss improved from inf to 0.12953, saving model to best.h5\n",
      "Epoch 2/100\n",
      "258/258 [==============================] - 31s 122ms/step - loss: 0.0981 - val_loss: 0.0822\n",
      "\n",
      "Epoch 00002: val_loss improved from 0.12953 to 0.08218, saving model to best.h5\n",
      "Epoch 3/100\n",
      "258/258 [==============================] - 31s 122ms/step - loss: 0.0718 - val_loss: 0.0703\n",
      "\n",
      "Epoch 00003: val_loss improved from 0.08218 to 0.07030, saving model to best.h5\n",
      "Epoch 4/100\n",
      "258/258 [==============================] - 31s 122ms/step - loss: 0.0688 - val_loss: 0.0656\n",
      "\n",
      "Epoch 00004: val_loss improved from 0.07030 to 0.06559, saving model to best.h5\n",
      "Epoch 5/100\n",
      "258/258 [==============================] - 31s 122ms/step - loss: 0.0642 - val_loss: 0.0658\n",
      "\n",
      "Epoch 00005: val_loss did not improve from 0.06559\n",
      "Epoch 6/100\n",
      "258/258 [==============================] - 31s 122ms/step - loss: 0.0636 - val_loss: 0.0603\n",
      "\n",
      "Epoch 00006: val_loss improved from 0.06559 to 0.06027, saving model to best.h5\n",
      "Epoch 7/100\n",
      "258/258 [==============================] - 31s 122ms/step - loss: 0.0603 - val_loss: 0.0582\n",
      "\n",
      "Epoch 00007: val_loss improved from 0.06027 to 0.05823, saving model to best.h5\n",
      "Epoch 8/100\n",
      "258/258 [==============================] - 31s 122ms/step - loss: 0.0597 - val_loss: 0.0576\n",
      "\n",
      "Epoch 00008: val_loss improved from 0.05823 to 0.05759, saving model to best.h5\n",
      "Epoch 9/100\n",
      "258/258 [==============================] - 31s 122ms/step - loss: 0.0574 - val_loss: 0.0571\n",
      "\n",
      "Epoch 00009: val_loss improved from 0.05759 to 0.05714, saving model to best.h5\n",
      "Epoch 10/100\n",
      "258/258 [==============================] - 31s 122ms/step - loss: 0.0560 - val_loss: 0.0531\n",
      "\n",
      "Epoch 00010: val_loss improved from 0.05714 to 0.05307, saving model to best.h5\n",
      "Epoch 11/100\n",
      "258/258 [==============================] - 31s 122ms/step - loss: 0.0538 - val_loss: 0.0552\n",
      "\n",
      "Epoch 00011: val_loss did not improve from 0.05307\n",
      "Epoch 12/100\n",
      "258/258 [==============================] - 31s 122ms/step - loss: 0.0526 - val_loss: 0.0549\n",
      "\n",
      "Epoch 00012: val_loss did not improve from 0.05307\n",
      "Epoch 13/100\n",
      "258/258 [==============================] - 31s 122ms/step - loss: 0.0496 - val_loss: 0.0497\n",
      "\n",
      "Epoch 00013: val_loss improved from 0.05307 to 0.04968, saving model to best.h5\n",
      "Epoch 14/100\n",
      "258/258 [==============================] - 31s 122ms/step - loss: 0.0467 - val_loss: 0.0453\n",
      "\n",
      "Epoch 00014: val_loss improved from 0.04968 to 0.04532, saving model to best.h5\n",
      "Epoch 15/100\n",
      "258/258 [==============================] - 31s 122ms/step - loss: 0.0446 - val_loss: 0.0434\n",
      "\n",
      "Epoch 00015: val_loss improved from 0.04532 to 0.04341, saving model to best.h5\n",
      "Epoch 16/100\n",
      "258/258 [==============================] - 31s 122ms/step - loss: 0.0423 - val_loss: 0.0400\n",
      "\n",
      "Epoch 00016: val_loss improved from 0.04341 to 0.03997, saving model to best.h5\n",
      "Epoch 17/100\n",
      "258/258 [==============================] - 31s 122ms/step - loss: 0.0407 - val_loss: 0.0403\n",
      "\n",
      "Epoch 00017: val_loss did not improve from 0.03997\n",
      "Epoch 18/100\n",
      "258/258 [==============================] - 31s 122ms/step - loss: 0.0396 - val_loss: 0.0376\n",
      "\n",
      "Epoch 00018: val_loss improved from 0.03997 to 0.03756, saving model to best.h5\n",
      "Epoch 19/100\n",
      "258/258 [==============================] - 31s 122ms/step - loss: 0.0385 - val_loss: 0.0389\n",
      "\n",
      "Epoch 00019: val_loss did not improve from 0.03756\n",
      "Epoch 20/100\n",
      "258/258 [==============================] - 31s 122ms/step - loss: 0.0372 - val_loss: 0.0367\n",
      "\n",
      "Epoch 00020: val_loss improved from 0.03756 to 0.03667, saving model to best.h5\n",
      "Epoch 21/100\n",
      "258/258 [==============================] - 31s 122ms/step - loss: 0.0366 - val_loss: 0.0355\n",
      "\n",
      "Epoch 00021: val_loss improved from 0.03667 to 0.03554, saving model to best.h5\n",
      "Epoch 22/100\n",
      "258/258 [==============================] - 32s 122ms/step - loss: 0.0353 - val_loss: 0.0335\n",
      "\n",
      "Epoch 00022: val_loss improved from 0.03554 to 0.03352, saving model to best.h5\n",
      "Epoch 23/100\n",
      "258/258 [==============================] - 32s 123ms/step - loss: 0.0349 - val_loss: 0.0357\n",
      "\n",
      "Epoch 00023: val_loss did not improve from 0.03352\n",
      "Epoch 24/100\n",
      "258/258 [==============================] - 32s 122ms/step - loss: 0.0338 - val_loss: 0.0321\n",
      "\n",
      "Epoch 00024: val_loss improved from 0.03352 to 0.03214, saving model to best.h5\n",
      "Epoch 25/100\n",
      "258/258 [==============================] - 32s 123ms/step - loss: 0.0334 - val_loss: 0.0331\n",
      "\n",
      "Epoch 00025: val_loss did not improve from 0.03214\n",
      "Epoch 26/100\n",
      "258/258 [==============================] - 31s 122ms/step - loss: 0.0324 - val_loss: 0.0329\n",
      "\n",
      "Epoch 00026: val_loss did not improve from 0.03214\n",
      "Epoch 27/100\n",
      "258/258 [==============================] - 31s 122ms/step - loss: 0.0324 - val_loss: 0.0351\n",
      "\n",
      "Epoch 00027: val_loss did not improve from 0.03214\n",
      "Epoch 28/100\n",
      "258/258 [==============================] - 31s 122ms/step - loss: 0.0316 - val_loss: 0.0348\n",
      "\n",
      "Epoch 00028: val_loss did not improve from 0.03214\n",
      "Epoch 29/100\n",
      "258/258 [==============================] - 31s 122ms/step - loss: 0.0317 - val_loss: 0.0307\n",
      "\n",
      "Epoch 00029: val_loss improved from 0.03214 to 0.03069, saving model to best.h5\n",
      "Epoch 30/100\n",
      "258/258 [==============================] - 31s 122ms/step - loss: 0.0309 - val_loss: 0.0300\n",
      "\n",
      "Epoch 00030: val_loss improved from 0.03069 to 0.02999, saving model to best.h5\n",
      "Epoch 31/100\n",
      "258/258 [==============================] - 31s 122ms/step - loss: 0.0306 - val_loss: 0.0297\n",
      "\n",
      "Epoch 00031: val_loss improved from 0.02999 to 0.02969, saving model to best.h5\n",
      "Epoch 32/100\n",
      "258/258 [==============================] - 31s 122ms/step - loss: 0.0298 - val_loss: 0.0299\n",
      "\n",
      "Epoch 00032: val_loss did not improve from 0.02969\n",
      "Epoch 33/100\n",
      "258/258 [==============================] - 31s 122ms/step - loss: 0.0294 - val_loss: 0.0340\n",
      "\n",
      "Epoch 00033: val_loss did not improve from 0.02969\n",
      "Epoch 34/100\n",
      "258/258 [==============================] - 31s 122ms/step - loss: 0.0292 - val_loss: 0.0311\n",
      "\n",
      "Epoch 00034: val_loss did not improve from 0.02969\n",
      "Epoch 35/100\n",
      "258/258 [==============================] - 32s 122ms/step - loss: 0.0291 - val_loss: 0.0287\n",
      "\n",
      "Epoch 00035: val_loss improved from 0.02969 to 0.02873, saving model to best.h5\n",
      "Epoch 36/100\n",
      "258/258 [==============================] - 31s 122ms/step - loss: 0.0289 - val_loss: 0.0283\n",
      "\n",
      "Epoch 00036: val_loss improved from 0.02873 to 0.02833, saving model to best.h5\n",
      "Epoch 37/100\n",
      "258/258 [==============================] - 31s 122ms/step - loss: 0.0281 - val_loss: 0.0279\n",
      "\n",
      "Epoch 00037: val_loss improved from 0.02833 to 0.02790, saving model to best.h5\n",
      "Epoch 38/100\n",
      "258/258 [==============================] - 31s 122ms/step - loss: 0.0279 - val_loss: 0.0282\n",
      "\n",
      "Epoch 00038: val_loss did not improve from 0.02790\n",
      "Epoch 39/100\n",
      "258/258 [==============================] - 31s 122ms/step - loss: 0.0272 - val_loss: 0.0305\n",
      "\n",
      "Epoch 00039: val_loss did not improve from 0.02790\n",
      "Epoch 40/100\n",
      "258/258 [==============================] - 31s 122ms/step - loss: 0.0270 - val_loss: 0.0269\n",
      "\n",
      "Epoch 00040: val_loss improved from 0.02790 to 0.02686, saving model to best.h5\n",
      "Epoch 41/100\n",
      "258/258 [==============================] - 32s 122ms/step - loss: 0.0273 - val_loss: 0.0271\n",
      "\n",
      "Epoch 00041: val_loss did not improve from 0.02686\n",
      "Epoch 42/100\n",
      "258/258 [==============================] - 32s 122ms/step - loss: 0.0265 - val_loss: 0.0286\n",
      "\n",
      "Epoch 00042: val_loss did not improve from 0.02686\n",
      "Epoch 43/100\n",
      "258/258 [==============================] - 32s 123ms/step - loss: 0.0265 - val_loss: 0.0269\n",
      "\n",
      "Epoch 00043: val_loss did not improve from 0.02686\n",
      "Epoch 44/100\n",
      "258/258 [==============================] - 32s 122ms/step - loss: 0.0258 - val_loss: 0.0257\n",
      "\n",
      "Epoch 00044: val_loss improved from 0.02686 to 0.02566, saving model to best.h5\n",
      "Epoch 45/100\n",
      "258/258 [==============================] - 32s 122ms/step - loss: 0.0256 - val_loss: 0.0262\n",
      "\n",
      "Epoch 00045: val_loss did not improve from 0.02566\n",
      "Epoch 46/100\n",
      "258/258 [==============================] - 32s 122ms/step - loss: 0.0252 - val_loss: 0.0254\n",
      "\n",
      "Epoch 00046: val_loss improved from 0.02566 to 0.02545, saving model to best.h5\n",
      "Epoch 47/100\n",
      "258/258 [==============================] - 31s 122ms/step - loss: 0.0245 - val_loss: 0.0260\n",
      "\n",
      "Epoch 00047: val_loss did not improve from 0.02545\n",
      "Epoch 48/100\n",
      "258/258 [==============================] - 32s 122ms/step - loss: 0.0245 - val_loss: 0.0262\n",
      "\n",
      "Epoch 00048: val_loss did not improve from 0.02545\n",
      "Epoch 49/100\n",
      "258/258 [==============================] - 32s 122ms/step - loss: 0.0243 - val_loss: 0.0246\n",
      "\n",
      "Epoch 00049: val_loss improved from 0.02545 to 0.02465, saving model to best.h5\n",
      "Epoch 50/100\n",
      "258/258 [==============================] - 32s 122ms/step - loss: 0.0237 - val_loss: 0.0236\n",
      "\n",
      "Epoch 00050: val_loss improved from 0.02465 to 0.02362, saving model to best.h5\n",
      "Epoch 51/100\n",
      "258/258 [==============================] - 32s 122ms/step - loss: 0.0235 - val_loss: 0.0229\n",
      "\n",
      "Epoch 00051: val_loss improved from 0.02362 to 0.02286, saving model to best.h5\n",
      "Epoch 52/100\n",
      "258/258 [==============================] - 32s 122ms/step - loss: 0.0233 - val_loss: 0.0264\n",
      "\n",
      "Epoch 00052: val_loss did not improve from 0.02286\n",
      "Epoch 53/100\n",
      "258/258 [==============================] - 32s 122ms/step - loss: 0.0225 - val_loss: 0.0221\n",
      "\n",
      "Epoch 00053: val_loss improved from 0.02286 to 0.02209, saving model to best.h5\n",
      "Epoch 54/100\n",
      "258/258 [==============================] - 32s 123ms/step - loss: 0.0225 - val_loss: 0.0220\n",
      "\n",
      "Epoch 00054: val_loss improved from 0.02209 to 0.02197, saving model to best.h5\n",
      "Epoch 55/100\n",
      "258/258 [==============================] - 31s 122ms/step - loss: 0.0223 - val_loss: 0.0236\n",
      "\n",
      "Epoch 00055: val_loss did not improve from 0.02197\n",
      "Epoch 56/100\n",
      "258/258 [==============================] - 32s 122ms/step - loss: 0.0219 - val_loss: 0.0225\n",
      "\n",
      "Epoch 00056: val_loss did not improve from 0.02197\n",
      "Epoch 57/100\n",
      "258/258 [==============================] - 31s 122ms/step - loss: 0.0213 - val_loss: 0.0222\n",
      "\n",
      "Epoch 00057: val_loss did not improve from 0.02197\n",
      "Epoch 58/100\n",
      "258/258 [==============================] - 31s 122ms/step - loss: 0.0223 - val_loss: 0.0237\n",
      "\n",
      "Epoch 00058: val_loss did not improve from 0.02197\n",
      "Epoch 59/100\n",
      "258/258 [==============================] - 32s 123ms/step - loss: 0.0215 - val_loss: 0.0228\n",
      "\n",
      "Epoch 00059: val_loss did not improve from 0.02197\n",
      "Epoch 60/100\n",
      "258/258 [==============================] - 32s 122ms/step - loss: 0.0210 - val_loss: 0.0222\n",
      "\n",
      "Epoch 00060: val_loss did not improve from 0.02197\n",
      "Epoch 61/100\n",
      "258/258 [==============================] - 32s 123ms/step - loss: 0.0210 - val_loss: 0.0221\n",
      "\n",
      "Epoch 00061: val_loss did not improve from 0.02197\n",
      "Epoch 62/100\n",
      "258/258 [==============================] - 31s 122ms/step - loss: 0.0206 - val_loss: 0.0207\n",
      "\n",
      "Epoch 00062: val_loss improved from 0.02197 to 0.02069, saving model to best.h5\n",
      "Epoch 63/100\n",
      "258/258 [==============================] - 31s 122ms/step - loss: 0.0212 - val_loss: 0.0234\n",
      "\n",
      "Epoch 00063: val_loss did not improve from 0.02069\n",
      "Epoch 64/100\n",
      "258/258 [==============================] - 32s 122ms/step - loss: 0.0204 - val_loss: 0.0218\n",
      "\n",
      "Epoch 00064: val_loss did not improve from 0.02069\n",
      "Epoch 65/100\n",
      "258/258 [==============================] - 31s 122ms/step - loss: 0.0200 - val_loss: 0.0219\n",
      "\n",
      "Epoch 00065: val_loss did not improve from 0.02069\n",
      "Epoch 66/100\n",
      "258/258 [==============================] - 32s 122ms/step - loss: 0.0204 - val_loss: 0.0213\n",
      "\n",
      "Epoch 00066: val_loss did not improve from 0.02069\n",
      "Epoch 67/100\n",
      "258/258 [==============================] - 31s 122ms/step - loss: 0.0201 - val_loss: 0.0210\n",
      "\n",
      "Epoch 00067: val_loss did not improve from 0.02069\n",
      "Epoch 68/100\n",
      "258/258 [==============================] - 32s 122ms/step - loss: 0.0200 - val_loss: 0.0214\n",
      "\n",
      "Epoch 00068: val_loss did not improve from 0.02069\n",
      "Epoch 69/100\n",
      "258/258 [==============================] - 31s 122ms/step - loss: 0.0210 - val_loss: 0.0209\n",
      "\n",
      "Epoch 00069: val_loss did not improve from 0.02069\n",
      "Epoch 70/100\n",
      "258/258 [==============================] - 31s 122ms/step - loss: 0.0195 - val_loss: 0.0212\n",
      "\n",
      "Epoch 00070: val_loss did not improve from 0.02069\n",
      "Epoch 71/100\n",
      "258/258 [==============================] - 31s 122ms/step - loss: 0.0194 - val_loss: 0.0217\n",
      "\n",
      "Epoch 00071: val_loss did not improve from 0.02069\n",
      "Epoch 72/100\n",
      "258/258 [==============================] - 32s 122ms/step - loss: 0.0192 - val_loss: 0.0204\n",
      "\n",
      "Epoch 00072: val_loss improved from 0.02069 to 0.02045, saving model to best.h5\n",
      "Epoch 73/100\n",
      "258/258 [==============================] - 31s 122ms/step - loss: 0.0193 - val_loss: 0.0207\n",
      "\n",
      "Epoch 00073: val_loss did not improve from 0.02045\n",
      "Epoch 74/100\n",
      "258/258 [==============================] - 32s 123ms/step - loss: 0.0188 - val_loss: 0.0212\n",
      "\n",
      "Epoch 00074: val_loss did not improve from 0.02045\n",
      "Epoch 75/100\n",
      "258/258 [==============================] - 31s 122ms/step - loss: 0.0188 - val_loss: 0.0208\n",
      "\n",
      "Epoch 00075: val_loss did not improve from 0.02045\n",
      "Epoch 76/100\n",
      "258/258 [==============================] - 31s 122ms/step - loss: 0.0187 - val_loss: 0.0203\n",
      "\n",
      "Epoch 00076: val_loss improved from 0.02045 to 0.02027, saving model to best.h5\n",
      "Epoch 77/100\n",
      "258/258 [==============================] - 32s 123ms/step - loss: 0.0194 - val_loss: 0.0212\n",
      "\n",
      "Epoch 00077: val_loss did not improve from 0.02027\n",
      "Epoch 78/100\n",
      "258/258 [==============================] - 31s 122ms/step - loss: 0.0184 - val_loss: 0.0204\n",
      "\n",
      "Epoch 00078: val_loss did not improve from 0.02027\n",
      "Epoch 79/100\n",
      "258/258 [==============================] - 32s 122ms/step - loss: 0.0187 - val_loss: 0.0198\n",
      "\n",
      "Epoch 00079: val_loss improved from 0.02027 to 0.01982, saving model to best.h5\n",
      "Epoch 80/100\n",
      "258/258 [==============================] - 31s 122ms/step - loss: 0.0180 - val_loss: 0.0204\n",
      "\n",
      "Epoch 00080: val_loss did not improve from 0.01982\n",
      "Epoch 81/100\n",
      "258/258 [==============================] - 32s 122ms/step - loss: 0.0184 - val_loss: 0.0211\n",
      "\n",
      "Epoch 00081: val_loss did not improve from 0.01982\n",
      "Epoch 82/100\n",
      "258/258 [==============================] - 31s 122ms/step - loss: 0.0182 - val_loss: 0.0223\n",
      "\n",
      "Epoch 00082: val_loss did not improve from 0.01982\n",
      "Epoch 83/100\n",
      "258/258 [==============================] - 32s 123ms/step - loss: 0.0180 - val_loss: 0.0211\n",
      "\n",
      "Epoch 00083: val_loss did not improve from 0.01982\n",
      "Epoch 84/100\n",
      "258/258 [==============================] - 31s 122ms/step - loss: 0.0177 - val_loss: 0.0203\n",
      "\n",
      "Epoch 00084: val_loss did not improve from 0.01982\n",
      "Epoch 85/100\n",
      "258/258 [==============================] - 32s 123ms/step - loss: 0.0182 - val_loss: 0.0207\n",
      "\n",
      "Epoch 00085: val_loss did not improve from 0.01982\n",
      "Epoch 86/100\n",
      "258/258 [==============================] - 31s 122ms/step - loss: 0.0176 - val_loss: 0.0195\n",
      "\n",
      "Epoch 00086: val_loss improved from 0.01982 to 0.01953, saving model to best.h5\n",
      "Epoch 87/100\n",
      "258/258 [==============================] - 31s 122ms/step - loss: 0.0173 - val_loss: 0.0197\n",
      "\n",
      "Epoch 00087: val_loss did not improve from 0.01953\n",
      "Epoch 88/100\n",
      "258/258 [==============================] - 32s 123ms/step - loss: 0.0171 - val_loss: 0.0199\n",
      "\n",
      "Epoch 00088: val_loss did not improve from 0.01953\n",
      "Epoch 89/100\n",
      "258/258 [==============================] - 31s 122ms/step - loss: 0.0175 - val_loss: 0.0207\n",
      "\n",
      "Epoch 00089: val_loss did not improve from 0.01953\n",
      "Epoch 90/100\n",
      "258/258 [==============================] - 32s 123ms/step - loss: 0.0171 - val_loss: 0.0195\n",
      "\n",
      "Epoch 00090: val_loss improved from 0.01953 to 0.01952, saving model to best.h5\n",
      "Epoch 91/100\n",
      "258/258 [==============================] - 31s 122ms/step - loss: 0.0171 - val_loss: 0.0210\n",
      "\n",
      "Epoch 00091: val_loss did not improve from 0.01952\n",
      "Epoch 92/100\n",
      "258/258 [==============================] - 32s 122ms/step - loss: 0.0167 - val_loss: 0.0204\n",
      "\n",
      "Epoch 00092: val_loss did not improve from 0.01952\n",
      "Epoch 93/100\n",
      "258/258 [==============================] - 31s 122ms/step - loss: 0.0166 - val_loss: 0.0207\n",
      "\n",
      "Epoch 00093: val_loss did not improve from 0.01952\n",
      "Epoch 94/100\n",
      "258/258 [==============================] - 32s 123ms/step - loss: 0.0170 - val_loss: 0.0211\n",
      "\n",
      "Epoch 00094: val_loss did not improve from 0.01952\n",
      "Epoch 95/100\n",
      "258/258 [==============================] - 31s 122ms/step - loss: 0.0172 - val_loss: 0.0208\n",
      "\n",
      "Epoch 00095: val_loss did not improve from 0.01952\n",
      "Epoch 96/100\n",
      "258/258 [==============================] - 31s 122ms/step - loss: 0.0165 - val_loss: 0.0208\n",
      "\n",
      "Epoch 00096: val_loss did not improve from 0.01952\n",
      "Epoch 97/100\n",
      "258/258 [==============================] - 32s 123ms/step - loss: 0.0162 - val_loss: 0.0203\n",
      "\n",
      "Epoch 00097: val_loss did not improve from 0.01952\n",
      "Epoch 98/100\n",
      "258/258 [==============================] - 31s 122ms/step - loss: 0.0161 - val_loss: 0.0205\n",
      "\n",
      "Epoch 00098: val_loss did not improve from 0.01952\n",
      "Epoch 99/100\n",
      "258/258 [==============================] - 32s 123ms/step - loss: 0.0157 - val_loss: 0.0208\n",
      "\n",
      "Epoch 00099: val_loss did not improve from 0.01952\n",
      "Epoch 100/100\n",
      "258/258 [==============================] - 31s 122ms/step - loss: 0.0162 - val_loss: 0.0195\n",
      "\n",
      "Epoch 00100: val_loss improved from 0.01952 to 0.01950, saving model to best.h5\n"
     ]
    },
    {
     "data": {
      "text/plain": [
       "<keras.callbacks.History at 0x7f7bb044f210>"
      ]
     },
     "execution_count": 32,
     "metadata": {},
     "output_type": "execute_result"
    }
   ],
   "source": [
    "model = create_lstm_model()\n",
    "model.fit(X_train, y_train_ini, validation_data=(X_valid, y_valid_ini), batch_size=BATCH_SIZE,\n",
    "          epochs=EPOCHS, shuffle=True, callbacks=[es, save_model_callback, reduce_lr])"
   ]
  },
  {
   "cell_type": "code",
   "execution_count": 33,
   "id": "7addfcc5",
   "metadata": {
    "execution": {
     "iopub.execute_input": "2021-10-18T22:45:11.231942Z",
     "iopub.status.busy": "2021-10-18T22:45:11.231059Z",
     "iopub.status.idle": "2021-10-18T22:45:13.807736Z",
     "shell.execute_reply": "2021-10-18T22:45:13.806780Z",
     "shell.execute_reply.started": "2021-10-18T20:37:29.940791Z"
    },
    "papermill": {
     "duration": 9.756388,
     "end_time": "2021-10-18T22:45:13.807889",
     "exception": false,
     "start_time": "2021-10-18T22:45:04.051501",
     "status": "completed"
    },
    "tags": []
   },
   "outputs": [],
   "source": [
    "from tensorflow.keras.models import load_model\n",
    "modell = load_model('best.h5')"
   ]
  },
  {
   "cell_type": "code",
   "execution_count": 34,
   "id": "3328f4ad",
   "metadata": {
    "execution": {
     "iopub.execute_input": "2021-10-18T22:45:28.845349Z",
     "iopub.status.busy": "2021-10-18T22:45:28.844801Z",
     "iopub.status.idle": "2021-10-18T22:45:35.004697Z",
     "shell.execute_reply": "2021-10-18T22:45:35.004160Z",
     "shell.execute_reply.started": "2021-10-18T21:27:02.955324Z"
    },
    "papermill": {
     "duration": 13.21678,
     "end_time": "2021-10-18T22:45:35.004846",
     "exception": false,
     "start_time": "2021-10-18T22:45:21.788066",
     "status": "completed"
    },
    "tags": []
   },
   "outputs": [
    {
     "data": {
      "text/plain": [
       "(244915, 1)"
      ]
     },
     "execution_count": 34,
     "metadata": {},
     "output_type": "execute_result"
    }
   ],
   "source": [
    "pred = modell.predict(dftest2)\n",
    "pred_reshape = pred.reshape(-1,1)\n",
    "pred_reshape.shape"
   ]
  },
  {
   "cell_type": "code",
   "execution_count": 35,
   "id": "8fe02c56",
   "metadata": {
    "execution": {
     "iopub.execute_input": "2021-10-18T22:45:49.433310Z",
     "iopub.status.busy": "2021-10-18T22:45:49.432293Z",
     "iopub.status.idle": "2021-10-18T22:45:49.439686Z",
     "shell.execute_reply": "2021-10-18T22:45:49.439220Z",
     "shell.execute_reply.started": "2021-10-18T21:27:32.540452Z"
    },
    "papermill": {
     "duration": 7.273821,
     "end_time": "2021-10-18T22:45:49.439819",
     "exception": false,
     "start_time": "2021-10-18T22:45:42.165998",
     "status": "completed"
    },
    "tags": []
   },
   "outputs": [],
   "source": [
    "preds = y_scaler.inverse_transform(pred_reshape)\n",
    "preds = qty.inverse_transform(preds)"
   ]
  },
  {
   "cell_type": "code",
   "execution_count": 36,
   "id": "225ff408",
   "metadata": {
    "execution": {
     "iopub.execute_input": "2021-10-18T22:46:03.854355Z",
     "iopub.status.busy": "2021-10-18T22:46:03.853405Z",
     "iopub.status.idle": "2021-10-18T22:46:03.856322Z",
     "shell.execute_reply": "2021-10-18T22:46:03.856719Z",
     "shell.execute_reply.started": "2021-10-18T21:28:32.404660Z"
    },
    "papermill": {
     "duration": 7.188354,
     "end_time": "2021-10-18T22:46:03.856866",
     "exception": false,
     "start_time": "2021-10-18T22:45:56.668512",
     "status": "completed"
    },
    "tags": []
   },
   "outputs": [
    {
     "data": {
      "text/plain": [
       "(244915, 1)"
      ]
     },
     "execution_count": 36,
     "metadata": {},
     "output_type": "execute_result"
    }
   ],
   "source": [
    "preds.shape"
   ]
  },
  {
   "cell_type": "code",
   "execution_count": 37,
   "id": "78ad17b2",
   "metadata": {
    "execution": {
     "iopub.execute_input": "2021-10-18T22:46:18.031185Z",
     "iopub.status.busy": "2021-10-18T22:46:18.030309Z",
     "iopub.status.idle": "2021-10-18T22:46:18.483811Z",
     "shell.execute_reply": "2021-10-18T22:46:18.484320Z",
     "shell.execute_reply.started": "2021-10-18T21:32:48.304787Z"
    },
    "papermill": {
     "duration": 7.482182,
     "end_time": "2021-10-18T22:46:18.484531",
     "exception": false,
     "start_time": "2021-10-18T22:46:11.002349",
     "status": "completed"
    },
    "tags": []
   },
   "outputs": [
    {
     "data": {
      "text/html": [
       "<div>\n",
       "<style scoped>\n",
       "    .dataframe tbody tr th:only-of-type {\n",
       "        vertical-align: middle;\n",
       "    }\n",
       "\n",
       "    .dataframe tbody tr th {\n",
       "        vertical-align: top;\n",
       "    }\n",
       "\n",
       "    .dataframe thead th {\n",
       "        text-align: right;\n",
       "    }\n",
       "</style>\n",
       "<table border=\"1\" class=\"dataframe\">\n",
       "  <thead>\n",
       "    <tr style=\"text-align: right;\">\n",
       "      <th></th>\n",
       "      <th>Sales</th>\n",
       "    </tr>\n",
       "  </thead>\n",
       "  <tbody>\n",
       "    <tr>\n",
       "      <th>0</th>\n",
       "      <td>0.000000</td>\n",
       "    </tr>\n",
       "    <tr>\n",
       "      <th>1</th>\n",
       "      <td>0.000000</td>\n",
       "    </tr>\n",
       "    <tr>\n",
       "      <th>2</th>\n",
       "      <td>0.000000</td>\n",
       "    </tr>\n",
       "    <tr>\n",
       "      <th>3</th>\n",
       "      <td>0.000000</td>\n",
       "    </tr>\n",
       "    <tr>\n",
       "      <th>4</th>\n",
       "      <td>0.000000</td>\n",
       "    </tr>\n",
       "    <tr>\n",
       "      <th>...</th>\n",
       "      <td>...</td>\n",
       "    </tr>\n",
       "    <tr>\n",
       "      <th>244910</th>\n",
       "      <td>0.000000</td>\n",
       "    </tr>\n",
       "    <tr>\n",
       "      <th>244911</th>\n",
       "      <td>15256.312500</td>\n",
       "    </tr>\n",
       "    <tr>\n",
       "      <th>244912</th>\n",
       "      <td>0.000000</td>\n",
       "    </tr>\n",
       "    <tr>\n",
       "      <th>244913</th>\n",
       "      <td>0.000000</td>\n",
       "    </tr>\n",
       "    <tr>\n",
       "      <th>244914</th>\n",
       "      <td>16426.015625</td>\n",
       "    </tr>\n",
       "  </tbody>\n",
       "</table>\n",
       "<p>244915 rows × 1 columns</p>\n",
       "</div>"
      ],
      "text/plain": [
       "               Sales\n",
       "0           0.000000\n",
       "1           0.000000\n",
       "2           0.000000\n",
       "3           0.000000\n",
       "4           0.000000\n",
       "...              ...\n",
       "244910      0.000000\n",
       "244911  15256.312500\n",
       "244912      0.000000\n",
       "244913      0.000000\n",
       "244914  16426.015625\n",
       "\n",
       "[244915 rows x 1 columns]"
      ]
     },
     "execution_count": 37,
     "metadata": {},
     "output_type": "execute_result"
    }
   ],
   "source": [
    "output = pd.DataFrame({'Sales': preds[:,0]})\n",
    "path = 'output.csv'\n",
    "output.to_csv(path, index=False)\n",
    "output"
   ]
  },
  {
   "cell_type": "markdown",
   "id": "f79a28fc",
   "metadata": {
    "papermill": {
     "duration": 7.148536,
     "end_time": "2021-10-18T22:46:33.351258",
     "exception": false,
     "start_time": "2021-10-18T22:46:26.202722",
     "status": "completed"
    },
    "tags": []
   },
   "source": []
  }
 ],
 "metadata": {
  "kernelspec": {
   "display_name": "Python 3 (ipykernel)",
   "language": "python",
   "name": "python3"
  },
  "language_info": {
   "codemirror_mode": {
    "name": "ipython",
    "version": 3
   },
   "file_extension": ".py",
   "mimetype": "text/x-python",
   "name": "python",
   "nbconvert_exporter": "python",
   "pygments_lexer": "ipython3",
   "version": "3.9.13"
  },
  "papermill": {
   "default_parameters": {},
   "duration": 3342.815686,
   "end_time": "2021-10-18T22:46:43.442974",
   "environment_variables": {},
   "exception": null,
   "input_path": "__notebook__.ipynb",
   "output_path": "__notebook__.ipynb",
   "parameters": {},
   "start_time": "2021-10-18T21:51:00.627288",
   "version": "2.3.3"
  }
 },
 "nbformat": 4,
 "nbformat_minor": 5
}
